{
 "cells": [
  {
   "cell_type": "markdown",
   "metadata": {},
   "source": [
    "# Predicting Home Prices in El Salvador\n",
    "\n",
    "After graduating from Amherst College in 2017, I worked as an investment analyst at a real estate and retail firm with operations in San Salvador, El Salvador and Managua, Nicaragua. One of the responsabilities of my role was to evaluate potential investment properties to determine a fair purchase price. I wondered whether it would be possible to build an analytics model that would help me estimate a property's value by analyzing a set of property factors such as Area and Location. I also wondered whether analytics could help suggest what are the most important predictors of a property's price in El Salvador.\n",
    "\n",
    "Note that I started this project before my Master of Analytics at Georgia Tech. Most, if not all, of the work and knowledge therein is a result of self study. "
   ]
  },
  {
   "cell_type": "markdown",
   "metadata": {},
   "source": [
    "## The Data \n",
    "\n",
    "The data used for this analysis was scraped using Scrapy from Encuentra24.com, an online listings website used in El Salvador. The variables I will be using for data cleaning and modeling are: \n",
    "\n",
    "1) **Title (string):** Listing's title\n",
    "\n",
    "2) **Price (int):** Listing's price in USD\n",
    "\n",
    "3) **Area (int):** Listing's area in meters squared\n",
    "\n",
    "4) **City (String):** Listing's city \n",
    "\n",
    "5) **Description (String):** Listing's description\n",
    "\n",
    "7) **Link (string):** Listing's url\n",
    "\n",
    "8) **Rooms (int):** Number of bedrooms\n",
    "\n",
    "9) **Reduced (boolean):** Whether the price has been reduced \n",
    "\n",
    "I decided to do some feature engineering and created the following predictors: \n",
    "\n",
    "10) **Commercial (boolean):** Whether the house is designated by the seller as appropriate for commercial purposes\n",
    "\n",
    "11) **Exclusive Neighborhood (boolean):** Denotes whether the house is located in one of the exclusive (expensive) neighborhoods of El Salvador\n",
    "\n",
    "Given that gang crime is a strong determinant in house prices, I also added crime data from El Salvador's police register:\n",
    "\n",
    "12) **#Murders (int):** Number of murders committed by gangs in the homes' city or municipality in 2014"
   ]
  },
  {
   "cell_type": "markdown",
   "metadata": {},
   "source": [
    "## Project Approach:"
   ]
  },
  {
   "cell_type": "markdown",
   "metadata": {},
   "source": [
    "1. Import and clean data\n",
    "2. Feature engineering\n",
    "3. Exploratory Data Analysis\n",
    "4. Scale data\n",
    "5. Training and validation using different regression models\n",
    "6. Choose best model and test on a testing set"
   ]
  },
  {
   "cell_type": "markdown",
   "metadata": {},
   "source": [
    "## Data Preparation\n",
    "\n",
    "Below I clean and prepared the listings data. Given that anyone can put a listing, the data I scraped had a lot of innacuracies, such as listings that were not for homes, repeated listings, listings with wrong prices (e.g. billion dollar listings). I also had to make the data apt for analysis (e.g. by converting to int). "
   ]
  },
  {
   "cell_type": "code",
   "execution_count": 1,
   "metadata": {},
   "outputs": [
    {
     "data": {
      "text/html": [
       "<div>\n",
       "<style scoped>\n",
       "    .dataframe tbody tr th:only-of-type {\n",
       "        vertical-align: middle;\n",
       "    }\n",
       "\n",
       "    .dataframe tbody tr th {\n",
       "        vertical-align: top;\n",
       "    }\n",
       "\n",
       "    .dataframe thead th {\n",
       "        text-align: right;\n",
       "    }\n",
       "</style>\n",
       "<table border=\"1\" class=\"dataframe\">\n",
       "  <thead>\n",
       "    <tr style=\"text-align: right;\">\n",
       "      <th></th>\n",
       "      <th>Title</th>\n",
       "      <th>Price</th>\n",
       "      <th>Area</th>\n",
       "      <th>City</th>\n",
       "      <th>Rooms</th>\n",
       "      <th>Description</th>\n",
       "      <th>Date Posted</th>\n",
       "      <th>Price Reduced</th>\n",
       "      <th>Link</th>\n",
       "    </tr>\n",
       "  </thead>\n",
       "  <tbody>\n",
       "    <tr>\n",
       "      <td>0</td>\n",
       "      <td>SE VENDE PRECIOSA Y COMODA CASA EN COLONIA PR...</td>\n",
       "      <td>$250,000.00</td>\n",
       "      <td>322 m</td>\n",
       "      <td>Zaragoza</td>\n",
       "      <td>5</td>\n",
       "      <td>\\nPreciosa casa estilo colonial inmersa en una...</td>\n",
       "      <td>Hace 6 días</td>\n",
       "      <td>NaN</td>\n",
       "      <td>https://www.encuentra24.com/el-salvador-es/bie...</td>\n",
       "    </tr>\n",
       "    <tr>\n",
       "      <td>1</td>\n",
       "      <td>Condado de Santa Elena, a estrenar, $365K y 5...</td>\n",
       "      <td>$365,000.00</td>\n",
       "      <td>251 m</td>\n",
       "      <td>San Salvador</td>\n",
       "      <td>3</td>\n",
       "      <td>\\nse vende linda casa a estrenar en Condado de...</td>\n",
       "      <td>Hace 10 días</td>\n",
       "      <td>NaN</td>\n",
       "      <td>https://www.encuentra24.com/el-salvador-es/bie...</td>\n",
       "    </tr>\n",
       "    <tr>\n",
       "      <td>2</td>\n",
       "      <td>Casa en Santa Ana, El Trebol, comoda y funcio...</td>\n",
       "      <td>$59,000.00</td>\n",
       "      <td>93 m</td>\n",
       "      <td>Santa Ana</td>\n",
       "      <td>2</td>\n",
       "      <td>\\nSanta Ana: en un área en constante desarroll...</td>\n",
       "      <td>Hace 21 días</td>\n",
       "      <td>NaN</td>\n",
       "      <td>https://www.encuentra24.com/el-salvador-es/bie...</td>\n",
       "    </tr>\n",
       "    <tr>\n",
       "      <td>3</td>\n",
       "      <td>Venta Casa Escalon parte baja sobre calle pri...</td>\n",
       "      <td>$199,000.00</td>\n",
       "      <td>262 m</td>\n",
       "      <td>San Salvador</td>\n",
       "      <td>4</td>\n",
       "      <td>\\nVenta Casa Escalon entre la 75 av.nte y la A...</td>\n",
       "      <td>Hace 23 días</td>\n",
       "      <td>NaN</td>\n",
       "      <td>https://www.encuentra24.com/el-salvador-es/bie...</td>\n",
       "    </tr>\n",
       "    <tr>\n",
       "      <td>4</td>\n",
       "      <td>Venta Casa Lomas de San Francisco pasaje privado</td>\n",
       "      <td>$145,000.00</td>\n",
       "      <td>143 m</td>\n",
       "      <td>San Salvador</td>\n",
       "      <td>3</td>\n",
       "      <td>\\nVenta casa Lomas Sfco pjeprivado\\nSala, come...</td>\n",
       "      <td>Hace 25 días</td>\n",
       "      <td>(rebajado 26%)</td>\n",
       "      <td>https://www.encuentra24.com/el-salvador-es/bie...</td>\n",
       "    </tr>\n",
       "  </tbody>\n",
       "</table>\n",
       "</div>"
      ],
      "text/plain": [
       "                                               Title        Price   Area  \\\n",
       "0   SE VENDE PRECIOSA Y COMODA CASA EN COLONIA PR...  $250,000.00  322 m   \n",
       "1   Condado de Santa Elena, a estrenar, $365K y 5...  $365,000.00  251 m   \n",
       "2   Casa en Santa Ana, El Trebol, comoda y funcio...   $59,000.00   93 m   \n",
       "3   Venta Casa Escalon parte baja sobre calle pri...  $199,000.00  262 m   \n",
       "4   Venta Casa Lomas de San Francisco pasaje privado  $145,000.00  143 m   \n",
       "\n",
       "           City  Rooms                                        Description  \\\n",
       "0      Zaragoza      5  \\nPreciosa casa estilo colonial inmersa en una...   \n",
       "1  San Salvador      3  \\nse vende linda casa a estrenar en Condado de...   \n",
       "2     Santa Ana      2  \\nSanta Ana: en un área en constante desarroll...   \n",
       "3  San Salvador      4  \\nVenta Casa Escalon entre la 75 av.nte y la A...   \n",
       "4  San Salvador      3  \\nVenta casa Lomas Sfco pjeprivado\\nSala, come...   \n",
       "\n",
       "    Date Posted     Price Reduced  \\\n",
       "0   Hace 6 días               NaN   \n",
       "1  Hace 10 días               NaN   \n",
       "2  Hace 21 días               NaN   \n",
       "3  Hace 23 días               NaN   \n",
       "4  Hace 25 días   (rebajado 26%)    \n",
       "\n",
       "                                                Link  \n",
       "0  https://www.encuentra24.com/el-salvador-es/bie...  \n",
       "1  https://www.encuentra24.com/el-salvador-es/bie...  \n",
       "2  https://www.encuentra24.com/el-salvador-es/bie...  \n",
       "3  https://www.encuentra24.com/el-salvador-es/bie...  \n",
       "4  https://www.encuentra24.com/el-salvador-es/bie...  "
      ]
     },
     "execution_count": 1,
     "metadata": {},
     "output_type": "execute_result"
    }
   ],
   "source": [
    "import pandas as pd\n",
    "import numpy as np\n",
    "import matplotlib.pyplot as plt\n",
    "import scipy.stats as stats\n",
    "from sklearn import linear_model\n",
    "import scipy\n",
    "from sklearn import metrics\n",
    "from sklearn.model_selection import train_test_split \n",
    "from sklearn.linear_model import LinearRegression\n",
    "import chart_studio.plotly as py\n",
    "import plotly.tools as tls\n",
    "\n",
    "\n",
    "#We upload a file of homes listed for sale on April 10, 2019. \n",
    "#To gather this data, I used Scrapy to scrape the Encuentra24 listings-for-sale website\n",
    "df = pd.read_csv('//Users/reynaldo/Documents/homes_july.csv')\n",
    "df.head()"
   ]
  },
  {
   "cell_type": "markdown",
   "metadata": {},
   "source": [
    "I drop dupliates and check null entries. The only variables with missing values are Price (6 missing) and Price Reduced (1537 missing). Missing values in the Price Reduced column refer to listings whose prices were not reduced, so we can easily fill in these values. "
   ]
  },
  {
   "cell_type": "code",
   "execution_count": 2,
   "metadata": {
    "scrolled": false
   },
   "outputs": [
    {
     "name": "stdout",
     "output_type": "stream",
     "text": [
      "Title               0\n",
      "Price               6\n",
      "Area                0\n",
      "City                0\n",
      "Rooms               0\n",
      "Description         0\n",
      "Date Posted         0\n",
      "Price Reduced    1537\n",
      "Link                0\n",
      "dtype: int64\n"
     ]
    }
   ],
   "source": [
    "#There are repeated data points so we remove them if they have the same title or Description\n",
    "df.drop_duplicates(subset='Title', keep='first', inplace = True)\n",
    "df.drop_duplicates(subset='Description', keep='first', inplace = True)\n",
    "\n",
    "print (df.isnull().sum())"
   ]
  },
  {
   "cell_type": "markdown",
   "metadata": {},
   "source": [
    "After checking missing Price values, I saw that a few were non-home listings so I removed them. The rest of the entries with missing values will be later imputed using the median for that city's price."
   ]
  },
  {
   "cell_type": "code",
   "execution_count": 76,
   "metadata": {},
   "outputs": [],
   "source": [
    "df.drop(730, inplace = True)\n",
    "df.drop(1843, inplace = True)\n",
    "\n",
    "#I dropped an observation with a strange price (nonUSD) \n",
    "df.drop(df.loc[df.Price =='SV₡17,000'].index, inplace = True)"
   ]
  },
  {
   "cell_type": "code",
   "execution_count": 77,
   "metadata": {
    "scrolled": true
   },
   "outputs": [],
   "source": [
    "#we change the 'Dates Posted' column to show only the approximate days the listing has been posted. \n",
    "def change_date(x):\n",
    "    if 'meses' in x:\n",
    "        number = x[5:-6]\n",
    "        date = int(number)*30\n",
    "        return date\n",
    "    \n",
    "    elif 'mes' in x:\n",
    "        return 30\n",
    "    \n",
    "    elif 'días' in x:\n",
    "        date = x[5:-5]\n",
    "        return int(date)\n",
    "    \n",
    "    else:\n",
    "        return 1\n",
    "    \n",
    "def clean_data(df):\n",
    "    \n",
    "    #We clean the \"Area\" column\n",
    "    #This eliminates the 'm' character that stands for \"meters squared\"\n",
    "    #Some \"Area\" values have decimals so we also round them\n",
    "    df['Area'] = df['Area'].map(lambda x: str(x)[:-1])\n",
    "    df[\"Area\"].replace(' ', np.nan, inplace = True)\n",
    "    df[\"Area\"]= df[\"Area\"].map(lambda x: float(x))\n",
    "\n",
    "    #To conduct our linear regression analysis, we are going to delete the observations with \n",
    "    #unreasonable Area values. We delete all listings with area greater than 5000 m2.\n",
    "    #5000 is a reasonable threshold value because the vast majority of homes are less than 5000 \n",
    "    #squared meters in size, and those that are greater are usually farms or simply a digiting error\n",
    "    #We also delete observations with less than 50 squared meters bc it is likely a digiting error\n",
    "    df.drop(df.loc[df.Area>5000].index, inplace = True)\n",
    "    df.drop(df.loc[df.Area<50].index, inplace = True)\n",
    "\n",
    "    #replace missing values with median\n",
    "    df[\"Area\"].replace(np.nan, df['Area'].median(), inplace = True)\n",
    "    df[\"Area\"]= df[\"Area\"].map(lambda x: round(x))\n",
    "\n",
    "    #We turn each column into lowercase for easier handling\n",
    "    df['Description'] = df['Description'].str.lower()\n",
    "    df['Title'] = df['Title'].str.lower()\n",
    "    \n",
    "    #We clean the 'Price' column\n",
    "    #We eliminate two decimals and the \"$\" and \",\" in the Price column\n",
    "    df['Price'] = df['Price'].map(lambda x: str(x)[1:-3])\n",
    "    df['Price'] = df['Price'].map(lambda x: x.replace(\",\", \"\"))\n",
    "    df[\"Price\"].replace('', np.nan, inplace = True)\n",
    "    df[\"Price\"]= df[\"Price\"].map(lambda x: float(x))\n",
    "        \n",
    "    #We eliminate all observations that have a Price value less than $5,200 or more than $3,000,000\n",
    "    #This is done to eliminate listings for things other than houses for sale (such as rentals or cars)\n",
    "    #We eliminate extremely high values because they are very likely a digiting error \n",
    "    #(extremely few houses (if any) are worth more than US$3M in El Salvador)\n",
    "    df.drop(df.loc[df.Price<5200].index, inplace = True)\n",
    "    df.drop(df.loc[df.Price>3000000].index, inplace = True)\n",
    "\n",
    "    df['Date Posted'] = df['Date Posted'].apply(change_date)\n",
    "\n",
    "    #We rename all El Salvador values in City column as \"Other\" as this doesn't provide any city information \n",
    "    #We also rename all City values that appear less than 10 times as \"Other\" since they have too little observations \n",
    "    #for regression analysis\n",
    "    df['City'].replace('El Salvador', 'Other', inplace = True)\n",
    "    s=df['City'].value_counts()\n",
    "    df['City'] = df['City'].map(lambda x: 'Other' if x in s[s<10].index else x)\n",
    "    \n",
    "    #We rename the Reduced column to booleans to denote whether price has been reduced or not\n",
    "    df['Price Reduced'] = df['Price Reduced'].map(lambda x: True if isinstance(x, str) else False)\n",
    "\n",
    "\n",
    "clean_data(df)\n",
    "\n",
    "#replace missing values with median and cast strings as int\n",
    "median_SM = df[(df.City == 'San Miguel')].Price.median()\n",
    "median_Colon = df[(df.City == 'Colón')].Price.median()\n",
    "\n",
    "df.loc[list(df[(df.City == 'San Miguel') & (df.Price.isnull())].index), 'Price']= median_SM\n",
    "df.loc[list(df[(df.City == 'Colón') & (df.Price.isnull())].index), 'Price']=  median_Colon\n",
    "df[\"Price\"]= df[\"Price\"].map(lambda x: int(round(x)))"
   ]
  },
  {
   "cell_type": "markdown",
   "metadata": {},
   "source": [
    "## Feature Engineering"
   ]
  },
  {
   "cell_type": "markdown",
   "metadata": {},
   "source": [
    "I decide to create a new variable denoting whether a home is located in an exclusive part of the city, as I think that this greatly correlated with a property's listing price. A property is designated as located in an exclusive neighborhood if one of the keywords below (exclusive) appear in either the title or description of the property's listing. "
   ]
  },
  {
   "cell_type": "code",
   "execution_count": 78,
   "metadata": {
    "scrolled": true
   },
   "outputs": [],
   "source": [
    "#feature engineering by creating a binary column that tells whether the home belongs to one of the exclusive neighborhoods\n",
    "exclusive = ['merliot', 'maquilishuat', 'escalón', 'cuscatlán', 'benito', 'carmen', 'escalon', \n",
    "    'madreselva', 'francisco','piletas', 'tecla', 'elena', 'altamira', 'cuscatlan', 'montaña', 'rosa', \n",
    "    'utila', 'teresa', 'sueños', 'tenerife', 'florida', 'portal', 'encanto', 'tuscania', 'cerromar', 'xanadu',\n",
    "    'costa del sol', 'palmira', 'suenos', 'montana', 'coatepeque', 'madre selva']\n",
    "\n",
    "def contains_string(x):\n",
    "    for word in exclusive:\n",
    "        if word in x['Title'] or word in x['Description']:\n",
    "            return True\n",
    "    else:\n",
    "        return False\n",
    "    \n",
    "def create_exclusive_column(df):\n",
    "    df['Exclusive Neighborhood'] = df.apply(contains_string, axis = 1)\n",
    "    \n",
    "create_exclusive_column(df)"
   ]
  },
  {
   "cell_type": "markdown",
   "metadata": {},
   "source": [
    "I also create a new variable denoting whether a house is designated for commercial purposes (e.g. to put a business or store). A house is designated as apt for commercial purposes if one of the keywords below (keys) appear in either the title or the description of the listing. "
   ]
  },
  {
   "cell_type": "code",
   "execution_count": 79,
   "metadata": {},
   "outputs": [],
   "source": [
    "#We create a feature to determine whether the home is designated as \"commercial\"\n",
    "keys = ['comercial', 'comercio', 'negocio', 'negocios', 'comercios', 'oficina', 'inversion', 'locales']\n",
    "\n",
    "def is_commercial(x):\n",
    "    for word in keys:\n",
    "        if word in x['Title'] or word in x['Description']:\n",
    "            return True\n",
    "    else:\n",
    "        return False\n",
    "    \n",
    "def create_commerce_col(df):\n",
    "    \n",
    "    df['Commercial'] = df.apply(is_commercial, axis = 1)\n",
    "    \n",
    "create_commerce_col(df)"
   ]
  },
  {
   "cell_type": "markdown",
   "metadata": {},
   "source": [
    "There are only 66 properties designated as appropriate for commercial properties, which is a small but important minority. Commercial properties tend to be the most expensive. Now I add a murder rate column for each city."
   ]
  },
  {
   "cell_type": "code",
   "execution_count": 80,
   "metadata": {},
   "outputs": [],
   "source": [
    "#We add a column of data about murders committed by gangs in each city or municipality in 2014\n",
    "\n",
    "#This data is gathered from El Salvador's Office of Justice and Public safety: https://www.transparencia.gob.sv/institutions/mjsp/documents/estadisticas\n",
    "df2 = pd.read_csv('//Users/reynaldo/Documents/Encuentra24/DATOS CASAS/MURDERS COMMITED BY GANGS IN 2014.csv', names = ['Municipality', 'Murders'])\n",
    "\n",
    "#We turn each column into lowercase in order to do left joins\n",
    "df['City'] = df['City'].str.lower()\n",
    "df2['Municipality'] = df2['Municipality'].str.lower()\n",
    "\n",
    "#replace a mispelling in order to do the join correctly\n",
    "df2.replace('colon', 'colón', inplace= True)\n",
    "df2.replace('zacatecoluca', 'la paz', inplace = True)\n",
    "\n",
    "#The data has repeated cities/municipalities because it originally divided the data by gang \n",
    "#So we add the numbers that appear in each city and make sure each city appears only once\n",
    "df2= df2.groupby('Municipality')[['Murders']].sum()\n",
    "\n",
    "#do a join between the two dataframes\n",
    "df = pd.merge(df, df2, left_on = \"City\", right_on = \"Municipality\", how = \"left\")\n",
    "df.groupby(\"City\")[[\"Murders\"]].sum()\n",
    "\n",
    "#Should I used la libertad or san salvador murder rate???\n",
    "#We filled some by the city in which they are located and we filled the 'other' with the median of #murders\n",
    "df.loc[df['City'] == 'santa tecla', 'Murders'] = int(df2.loc['san salvador'].Murders)\n",
    "df.loc[df['City'] == 'antiguo cuscatlán', 'Murders'] = int(df2.loc['san salvador'].Murders)\n",
    "df.loc[df['City'] == 'other', 'Murders'] = df2['Murders'].median()"
   ]
  },
  {
   "cell_type": "code",
   "execution_count": 81,
   "metadata": {},
   "outputs": [],
   "source": [
    "#delete a few listings that were clearly not for homes (such as hotels)\n",
    "df.drop(568, inplace = True)\n",
    "df.drop(1166, inplace = True)\n",
    "df.drop(1498, inplace = True)\n",
    "df.drop(1417, inplace = True)\n",
    "df.drop(1442, inplace = True)\n",
    "df.drop(1271, inplace = True)\n",
    "df.drop(1066, inplace = True)\n",
    "df.drop(881, inplace = True)\n",
    "df.drop(786, inplace = True)\n",
    "df.drop(642, inplace = True)\n",
    "df.drop(376, inplace = True)"
   ]
  },
  {
   "cell_type": "markdown",
   "metadata": {},
   "source": [
    "Correct a few values below for listings that had wrongly imputed values. I also drop all rows except the first where Price, Area, and City match exactly. I also drop all rows except the first whose Title is the same. These are clear repetitions that we weed out. "
   ]
  },
  {
   "cell_type": "code",
   "execution_count": 82,
   "metadata": {},
   "outputs": [],
   "source": [
    "df.at[1276, 'Area']= 600\n",
    "df.at[62, 'Price']= 40000\n",
    "df.at[1182, 'Price']= 48000\n",
    "df.at[22, 'Murders']= 28\n",
    "df.at[498, 'Murders']= 4\n",
    "df.at[816, 'Murders']= 28\n",
    "df.at[864, 'Murders'] = 28\n",
    "df.at[1026, 'Exclusive Neighborhood'] = True\n",
    "df.at[1277, 'Murders']= 28\n",
    "df.at[1409, 'Murders']= 28\n",
    "df.at[678, 'Murders']= 28\n",
    "df.at[726, 'Murders']= 28\n",
    "df.at[10, 'Murders']= 28\n",
    "\n",
    "#I delete all rows that share the exact same Price, Area, and City given that they are very likely to be duplicates. \n",
    "#It is not an infallible method of deleting duplicate rows but it is good enough, as it deletes around 200 rows\n",
    "#most of which were actually duplicate listings. \n",
    "df.drop_duplicates(subset=['Price', 'Area', 'City'], keep='first', inplace = True)\n",
    "\n",
    "#After correcting data, there may be duplicate Titles so I drop them again\n",
    "df = df.drop_duplicates(subset='Title', keep='first')\n",
    "\n",
    "df.reset_index(drop=True, inplace= True)"
   ]
  },
  {
   "cell_type": "markdown",
   "metadata": {},
   "source": [
    "A drawback of the drop_duplicates() method is that it only deletes rows that are exactly the same in the columns I specify. Many properties are listed multiple times with slightly different values, such as when price is slightly lowered or if the seller makes a spelling mistake. I use the following functions to delete rows of repeated listings that were not detected by the drop_duplicates() method. This code helps us delete such repeated listings by getting a similarity ratio for the 'Title', 'Price', and 'Area' columns. If the similarity ratio for all three is sufficiently small (within 10% for both Price and Area), then we delete one of the rows. This code was made with help from StackOverflow. It is useful to avoid manually going over the whole data set in search of potential duplicates, although running time is O(N^2). This function succesfully detects 60 duplicates and deletes them. "
   ]
  },
  {
   "cell_type": "code",
   "execution_count": 83,
   "metadata": {
    "scrolled": true
   },
   "outputs": [],
   "source": [
    "from fuzzywuzzy import fuzz\n",
    "\n",
    "def fuzzy_compare(a,b):\n",
    "    val=fuzz.partial_ratio(a,b)\n",
    "    return val\n",
    "\n",
    "tl = df[\"Title\"].tolist()\n",
    "itered=1\n",
    "i=0\n",
    "\n",
    "repeated_row  = {}\n",
    "\n",
    "def delete_repeated(i):\n",
    "    itered=i+1    \n",
    "    while itered < len(tl):\n",
    "        val=fuzzy_compare(tl[i],tl[itered])\n",
    "        if val > 80:\n",
    "            if abs((df.loc[i,'Price'])/(df.loc[itered,'Price']))>0.90 and abs((df.loc[i,'Price'])/(df.loc[itered,'Price']))<1.11:\n",
    "                if abs((df.loc[i,'Area'])/(df.loc[itered,'Area']))>0.90 and abs((df.loc[i,'Area'])/(df.loc[itered,'Area']))<1.11:\n",
    "                    df.drop(itered,inplace=True)\n",
    "                    df.reset_index()\n",
    "                    pass\n",
    "                else:\n",
    "                    pass\n",
    "            else:\n",
    "                pass            \n",
    "        else:\n",
    "            pass\n",
    "        itered=itered+1 \n",
    "    \n",
    "while i < len(tl)-1:\n",
    "    try:\n",
    "        delete_repeated(i)\n",
    "        i=i+1\n",
    "    except:\n",
    "        i=i+1\n",
    "        pass\n",
    "else:\n",
    "    pass"
   ]
  },
  {
   "cell_type": "markdown",
   "metadata": {},
   "source": [
    "Drop a few erroneous or repeated rows once more:"
   ]
  },
  {
   "cell_type": "code",
   "execution_count": 84,
   "metadata": {},
   "outputs": [],
   "source": [
    "#Drow a few more listings that are incorrect\n",
    "df.drop(153, inplace = True)\n",
    "df.drop(587, inplace = True)\n",
    "df.drop(561, inplace = True)\n",
    "df.drop(895, inplace = True)\n",
    "df.drop(874, inplace = True)\n",
    "df.drop(494, inplace = True)\n",
    "df.drop(924, inplace = True)\n",
    "df.drop(689, inplace = True)\n",
    "df.drop(382, inplace = True)\n",
    "df.drop(1122, inplace = True)\n",
    "df.drop(149, inplace = True)\n",
    "df.drop(582, inplace = True)\n",
    "df.drop(578, inplace = True)\n",
    "df.drop(1047, inplace = True)\n",
    "df.drop(746, inplace = True)\n",
    "df.drop(933, inplace = True)\n",
    "df.drop(583, inplace = True)\n",
    "df.drop(1210, inplace = True)\n",
    "df.drop(530, inplace = True)\n",
    "df.drop(962, inplace = True)\n",
    "df.drop(610, inplace = True)\n",
    "df.drop(883, inplace = True)\n",
    "df.drop(519, inplace = True)\n",
    "df.drop(181, inplace = True)\n",
    "df.drop(102, inplace = True)\n",
    "df.drop(70, inplace = True)\n",
    "df.drop(659, inplace = True)\n",
    "df.drop(611, inplace = True)\n",
    "df.drop(615, inplace = True)\n",
    "df.drop(968, inplace = True)\n",
    "df.drop(208, inplace = True)\n",
    "df.drop(91, inplace = True)\n",
    "df.drop(182, inplace = True)"
   ]
  },
  {
   "cell_type": "markdown",
   "metadata": {},
   "source": [
    "# Final Data Set:"
   ]
  },
  {
   "cell_type": "markdown",
   "metadata": {},
   "source": [
    "I choose the delete all rows that are not used for data analysis and modeling, such as Title, Description, and Link. I also chose to delete the City column since it is a categorical variable with 10+ category values. Including this variable in regression models, while including a few other variables that are highly correlated to City (such as Murders, Exclusive Neihborhood, and Commericial) didn't seem wise as linear regression requires uncorrelated predictors. Additionally, having too many similar variables reduces our model's statistical strength. "
   ]
  },
  {
   "cell_type": "code",
   "execution_count": 86,
   "metadata": {},
   "outputs": [
    {
     "data": {
      "text/html": [
       "<div>\n",
       "<style scoped>\n",
       "    .dataframe tbody tr th:only-of-type {\n",
       "        vertical-align: middle;\n",
       "    }\n",
       "\n",
       "    .dataframe tbody tr th {\n",
       "        vertical-align: top;\n",
       "    }\n",
       "\n",
       "    .dataframe thead th {\n",
       "        text-align: right;\n",
       "    }\n",
       "</style>\n",
       "<table border=\"1\" class=\"dataframe\">\n",
       "  <thead>\n",
       "    <tr style=\"text-align: right;\">\n",
       "      <th></th>\n",
       "      <th>Price</th>\n",
       "      <th>Area</th>\n",
       "      <th>Rooms</th>\n",
       "      <th>Date Posted</th>\n",
       "      <th>Price Reduced</th>\n",
       "      <th>Exclusive Neighborhood</th>\n",
       "      <th>Commercial</th>\n",
       "      <th>Murders</th>\n",
       "    </tr>\n",
       "  </thead>\n",
       "  <tbody>\n",
       "    <tr>\n",
       "      <td>0</td>\n",
       "      <td>250000</td>\n",
       "      <td>322</td>\n",
       "      <td>5</td>\n",
       "      <td>6</td>\n",
       "      <td>False</td>\n",
       "      <td>False</td>\n",
       "      <td>False</td>\n",
       "      <td>4.0</td>\n",
       "    </tr>\n",
       "    <tr>\n",
       "      <td>1</td>\n",
       "      <td>365000</td>\n",
       "      <td>251</td>\n",
       "      <td>3</td>\n",
       "      <td>10</td>\n",
       "      <td>False</td>\n",
       "      <td>True</td>\n",
       "      <td>False</td>\n",
       "      <td>28.0</td>\n",
       "    </tr>\n",
       "    <tr>\n",
       "      <td>2</td>\n",
       "      <td>59000</td>\n",
       "      <td>93</td>\n",
       "      <td>2</td>\n",
       "      <td>21</td>\n",
       "      <td>False</td>\n",
       "      <td>False</td>\n",
       "      <td>False</td>\n",
       "      <td>11.0</td>\n",
       "    </tr>\n",
       "    <tr>\n",
       "      <td>3</td>\n",
       "      <td>199000</td>\n",
       "      <td>262</td>\n",
       "      <td>4</td>\n",
       "      <td>23</td>\n",
       "      <td>False</td>\n",
       "      <td>True</td>\n",
       "      <td>False</td>\n",
       "      <td>28.0</td>\n",
       "    </tr>\n",
       "    <tr>\n",
       "      <td>4</td>\n",
       "      <td>145000</td>\n",
       "      <td>143</td>\n",
       "      <td>3</td>\n",
       "      <td>25</td>\n",
       "      <td>True</td>\n",
       "      <td>True</td>\n",
       "      <td>False</td>\n",
       "      <td>28.0</td>\n",
       "    </tr>\n",
       "  </tbody>\n",
       "</table>\n",
       "</div>"
      ],
      "text/plain": [
       "    Price  Area  Rooms  Date Posted  Price Reduced  Exclusive Neighborhood  \\\n",
       "0  250000   322      5            6          False                   False   \n",
       "1  365000   251      3           10          False                    True   \n",
       "2   59000    93      2           21          False                   False   \n",
       "3  199000   262      4           23          False                    True   \n",
       "4  145000   143      3           25           True                    True   \n",
       "\n",
       "   Commercial  Murders  \n",
       "0       False      4.0  \n",
       "1       False     28.0  \n",
       "2       False     11.0  \n",
       "3       False     28.0  \n",
       "4       False     28.0  "
      ]
     },
     "execution_count": 86,
     "metadata": {},
     "output_type": "execute_result"
    }
   ],
   "source": [
    "df.drop(['Title', 'City', 'Description', 'Link'], axis=1, inplace = True)\n",
    "df.head()"
   ]
  },
  {
   "cell_type": "markdown",
   "metadata": {},
   "source": [
    "## Exploratory Data Analysis"
   ]
  },
  {
   "cell_type": "markdown",
   "metadata": {},
   "source": [
    "Interestingly, almost half of all listings on the website are located in neighborhoods designated as exclusive (as define above). This means that a large part of listings correspond to properties in the capital city of San Salvador. Also, around 10% of listings correspond to properties apt for commercial purposes. "
   ]
  },
  {
   "cell_type": "code",
   "execution_count": 87,
   "metadata": {},
   "outputs": [
    {
     "name": "stdout",
     "output_type": "stream",
     "text": [
      "Proportion of listings located in exclusive neighborhoods: 0.44\n",
      "Proportion of listings categorized as apt for commercial purposes: 0.11\n"
     ]
    }
   ],
   "source": [
    "print('Proportion of listings located in exclusive neighborhoods:', round(len(df[df['Exclusive Neighborhood'] == True])/len(df),2))\n",
    "print('Proportion of listings categorized as apt for commercial purposes:', round(len(df[df.Commercial == True])/len(df),2))"
   ]
  },
  {
   "cell_type": "markdown",
   "metadata": {},
   "source": [
    "Below are a few distributions of our variables. As expected, area and price are heavily right skewed. Interestingly, number of murders is also right skewed, showing that most cities have few murders. This is a bit surprising given El Salvador's high murder rate, but it makes sense that most murders are concentrated in the most densely populated areas (like the capital city). The remaining numerical variables: Room Numbers and Date Posted are also right skewed. The skewed data suggests that I should try doing some log transformation to see if it improves model accuracy."
   ]
  },
  {
   "cell_type": "code",
   "execution_count": 88,
   "metadata": {},
   "outputs": [
    {
     "data": {
      "text/plain": [
       "Text(0.5, 1.0, 'Histogram of Date Posted')"
      ]
     },
     "execution_count": 88,
     "metadata": {},
     "output_type": "execute_result"
    },
    {
     "data": {
      "image/png": "[encoded data removed]",
      "text/plain": [
       "<Figure size 1080x288 with 5 Axes>"
      ]
     },
     "metadata": {
      "needs_background": "light"
     },
     "output_type": "display_data"
    }
   ],
   "source": [
    "fig = plt.figure(figsize=(15,4))\n",
    "fig.subplots_adjust(hspace=1)\n",
    "ax1 = fig.add_subplot(321)\n",
    "ax1.hist(df.Price, bins=70)\n",
    "ax1.set_title('Histogram of Home Prices')\n",
    "\n",
    "ax2 = fig.add_subplot(322)\n",
    "ax2.hist(df[\"Area\"], bins = 65)\n",
    "ax2.set_title('Histogram of Home Area')\n",
    "\n",
    "ax3 = fig.add_subplot(323)\n",
    "ax3.hist(df2[\"Murders\"], bins = 10)\n",
    "ax3.set_title('Histogram of Murders')\n",
    "\n",
    "ax4 = fig.add_subplot(324)\n",
    "ax4.hist(df['Rooms'], bins=4)\n",
    "ax4.set_title('Histogram of Room Numbers')\n",
    "\n",
    "ax5 = fig.add_subplot(325)\n",
    "ax5.hist(df['Date Posted'], bins=10)\n",
    "ax5.set_title('Histogram of Date Posted')"
   ]
  },
  {
   "cell_type": "markdown",
   "metadata": {},
   "source": [
    "I check if my numerical predictors and Price are linearly correlated. Evidently, most data points tend to be concentrated at the lower values of Area and Date Posted. It seems like  "
   ]
  },
  {
   "cell_type": "code",
   "execution_count": 89,
   "metadata": {},
   "outputs": [
    {
     "data": {
      "image/png": "[encoded data removed]",
      "text/plain": [
       "<Figure size 1080x720 with 1 Axes>"
      ]
     },
     "metadata": {
      "needs_background": "light"
     },
     "output_type": "display_data"
    },
    {
     "data": {
      "image/png": "[encoded data removed]",
      "text/plain": [
       "<Figure size 432x288 with 1 Axes>"
      ]
     },
     "metadata": {
      "needs_background": "light"
     },
     "output_type": "display_data"
    },
    {
     "data": {
      "image/png": "[encoded data removed]",
      "text/plain": [
       "<Figure size 432x288 with 1 Axes>"
      ]
     },
     "metadata": {
      "needs_background": "light"
     },
     "output_type": "display_data"
    },
    {
     "data": {
      "image/png": "[encoded data removed]",
      "text/plain": [
       "<Figure size 432x288 with 1 Axes>"
      ]
     },
     "metadata": {
      "needs_background": "light"
     },
     "output_type": "display_data"
    }
   ],
   "source": [
    "fig = plt.figure(figsize=(15,10))\n",
    "fig.subplots_adjust(hspace=0.5)\n",
    "ax1 = fig.add_subplot(221)\n",
    "plt.scatter(df.Area, df.Price)\n",
    "plt.xlabel('Area')\n",
    "plt.ylabel('Price')\n",
    "plt.show()\n",
    "\n",
    "ax1 = fig.add_subplot(222)\n",
    "plt.scatter(df.Rooms, df.Price)\n",
    "plt.xlabel('Rooms')\n",
    "plt.ylabel('Price')\n",
    "plt.show()\n",
    "\n",
    "ax1 = fig.add_subplot(223)\n",
    "plt.scatter(df['Date Posted'], df.Price)\n",
    "plt.xlabel('Date Posted')\n",
    "plt.ylabel('Price')\n",
    "plt.show()\n",
    "\n",
    "ax1 = fig.add_subplot(224)\n",
    "plt.scatter(df.Murders, df.Price)\n",
    "plt.xlabel('Murders')\n",
    "plt.ylabel('Price')\n",
    "plt.show()"
   ]
  },
  {
   "cell_type": "markdown",
   "metadata": {},
   "source": [
    "We get median Price statistics. Clearly, median price of listings deemed as located in exclusive neighborhoods is a bit over US300,000, almost three times as much as those listings located in non exclusive neighborhoods. Also, properties deemed as apt for commercial purposes are listed a bit above US250,000, also higher than non commercial properties with a median price around US160,000. \n",
    "\n",
    "As expected, median area is also larger for exclusive neighborhoods and commercial properties, although the degree of difference is a bit less than that of Price. \n",
    "I didn't plot graphs for murder rate because it has less variation than the other variables."
   ]
  },
  {
   "cell_type": "code",
   "execution_count": 90,
   "metadata": {},
   "outputs": [
    {
     "data": {
      "text/plain": [
       "<BarContainer object of 5 artists>"
      ]
     },
     "execution_count": 90,
     "metadata": {},
     "output_type": "execute_result"
    },
    {
     "data": {
      "image/png": "[encoded data removed]",
      "text/plain": [
       "<Figure size 1080x360 with 2 Axes>"
      ]
     },
     "metadata": {
      "needs_background": "light"
     },
     "output_type": "display_data"
    }
   ],
   "source": [
    "fig = plt.figure(figsize=(15,5))\n",
    "fig.subplots_adjust(hspace=0.5)\n",
    "ax1 = fig.add_subplot(121)\n",
    "y = [df['Price'].median(), df[df['Exclusive Neighborhood']==True].Price.median(), df[df['Exclusive Neighborhood']==False].Price.median(), df[df['Commercial']==True].Price.median(), df[df['Commercial'] == False].Price.median()]\n",
    "N = len(y)\n",
    "x = ['Overall', 'Exclusive \\n Neighborhood', 'Not in Exclusive \\n Neighborhood', 'Commercial', 'Not Commercial']\n",
    "width = 1/1.5\n",
    "ax1.set_xticks(range(len(x)), x)\n",
    "ax1.set_title('Median Listed Home Prices (U$)')\n",
    "ax1.bar(x, y, width, color=['r', 'b', 'b', 'g', 'g'])\n",
    "\n",
    "ax2 = fig.add_subplot(122)\n",
    "y = [df['Area'].median(), df[df['Exclusive Neighborhood']==True].Area.median(), df[df['Exclusive Neighborhood']==False].Area.median(), df[df['Commercial']==True].Area.median(), df[df['Commercial'] == False].Area.median()]\n",
    "N = len(y)\n",
    "x = ['Overall', 'Exclusive \\n Neighborhood', 'Not in Exclusive \\n Neighborhood', 'Commercial', 'Not Commercial']\n",
    "width = 1/1.5\n",
    "ax2.set_xticks(range(len(x)), x)\n",
    "ax2.set_title('Median Area Home Prices (m)')\n",
    "ax2.bar(x, y, width, color=['r', 'b', 'b', 'g', 'g'])"
   ]
  },
  {
   "cell_type": "markdown",
   "metadata": {},
   "source": [
    "Finally let's see the bar graph of the price per square meter. The price per square meter is about twice as high in exclusive neighborhoods compared to those not in exclusive neighborhoods. Price per square meter roughly the same in commercial as in non commercial homes, which is a bit counterintuitive as commercial properties are in high demand and sell for higher prices. This may indicate that many properties that are listed as apt for commercial purposes may not really be 'grade A' properties (such as in shopping malls), but are rather lower grade properties that are repurposed for commercial purposes and attract lower income tenant businesses. "
   ]
  },
  {
   "cell_type": "code",
   "execution_count": 91,
   "metadata": {},
   "outputs": [
    {
     "data": {
      "text/plain": [
       "<BarContainer object of 5 artists>"
      ]
     },
     "execution_count": 91,
     "metadata": {},
     "output_type": "execute_result"
    },
    {
     "data": {
      "image/png": "[encoded data removed]",
      "text/plain": [
       "<Figure size 432x288 with 1 Axes>"
      ]
     },
     "metadata": {
      "needs_background": "light"
     },
     "output_type": "display_data"
    }
   ],
   "source": [
    "y = [df['Price'].median()/df['Area'].median(), df[df['Exclusive Neighborhood']==True].Price.median()/df[df['Exclusive Neighborhood']==True].Area.median(), df[df['Exclusive Neighborhood']==False].Price.median()/df[df['Exclusive Neighborhood']==False].Area.median(), df[df['Commercial']==True].Price.median()/ df[df['Commercial']==True].Area.median(), df[df['Commercial'] == False].Price.median()/ df[df['Commercial']==False].Area.median()]\n",
    "N = len(y)\n",
    "x = ['Overall', 'Exclusive \\n Neighborhood', 'Not in Exclusive \\n Neighborhood', 'Commercial', 'Not Commercial']\n",
    "width = 1/1.5\n",
    "plt.xticks(range(len(x)), x, rotation = 30)\n",
    "plt.title('Median Price per Sq Meter')\n",
    "plt.bar(x, y, width, color=['r', 'b', 'b', 'g', 'g'])"
   ]
  },
  {
   "cell_type": "markdown",
   "metadata": {},
   "source": [
    "We create boxplots to see potential outliers within each of the cities (each city is represented by a murder rate). I explored potential outliers to determine whether to delete them or not, and found that all data points outside of usual ranges are either large homes or expensive luxury homes. The data preparation step was succesful :)"
   ]
  },
  {
   "cell_type": "code",
   "execution_count": 92,
   "metadata": {},
   "outputs": [
    {
     "data": {
      "text/plain": [
       "<matplotlib.axes._subplots.AxesSubplot at 0x12afe86d0>"
      ]
     },
     "execution_count": 92,
     "metadata": {},
     "output_type": "execute_result"
    },
    {
     "data": {
      "image/png": "[encoded data removed]",
      "text/plain": [
       "<Figure size 1296x576 with 1 Axes>"
      ]
     },
     "metadata": {
      "needs_background": "light"
     },
     "output_type": "display_data"
    },
    {
     "data": {
      "image/png": "[encoded data removed]",
      "text/plain": [
       "<Figure size 1296x576 with 1 Axes>"
      ]
     },
     "metadata": {
      "needs_background": "light"
     },
     "output_type": "display_data"
    }
   ],
   "source": [
    "df.boxplot(column='Price', by='Murders', figsize=(18,8))\n",
    "\n",
    "df.boxplot(column='Area', by='Murders', figsize=(18,8))"
   ]
  },
  {
   "cell_type": "markdown",
   "metadata": {},
   "source": [
    "As seen below, Exclusive Neighborhoods and Murders are fairly correlated, so I will also try out lasso and PCA regression. "
   ]
  },
  {
   "cell_type": "code",
   "execution_count": 93,
   "metadata": {},
   "outputs": [
    {
     "data": {
      "text/html": [
       "<div>\n",
       "<style scoped>\n",
       "    .dataframe tbody tr th:only-of-type {\n",
       "        vertical-align: middle;\n",
       "    }\n",
       "\n",
       "    .dataframe tbody tr th {\n",
       "        vertical-align: top;\n",
       "    }\n",
       "\n",
       "    .dataframe thead th {\n",
       "        text-align: right;\n",
       "    }\n",
       "</style>\n",
       "<table border=\"1\" class=\"dataframe\">\n",
       "  <thead>\n",
       "    <tr style=\"text-align: right;\">\n",
       "      <th></th>\n",
       "      <th>Price</th>\n",
       "      <th>Area</th>\n",
       "      <th>Rooms</th>\n",
       "      <th>Date Posted</th>\n",
       "      <th>Price Reduced</th>\n",
       "      <th>Exclusive Neighborhood</th>\n",
       "      <th>Commercial</th>\n",
       "      <th>Murders</th>\n",
       "    </tr>\n",
       "  </thead>\n",
       "  <tbody>\n",
       "    <tr>\n",
       "      <td>Price</td>\n",
       "      <td>1.000000</td>\n",
       "      <td>0.352186</td>\n",
       "      <td>0.293303</td>\n",
       "      <td>0.087836</td>\n",
       "      <td>-0.056528</td>\n",
       "      <td>0.416159</td>\n",
       "      <td>0.116161</td>\n",
       "      <td>0.292352</td>\n",
       "    </tr>\n",
       "    <tr>\n",
       "      <td>Area</td>\n",
       "      <td>0.352186</td>\n",
       "      <td>1.000000</td>\n",
       "      <td>0.298380</td>\n",
       "      <td>0.096898</td>\n",
       "      <td>0.001016</td>\n",
       "      <td>0.099973</td>\n",
       "      <td>0.032438</td>\n",
       "      <td>-0.018486</td>\n",
       "    </tr>\n",
       "    <tr>\n",
       "      <td>Rooms</td>\n",
       "      <td>0.293303</td>\n",
       "      <td>0.298380</td>\n",
       "      <td>1.000000</td>\n",
       "      <td>0.057685</td>\n",
       "      <td>-0.008193</td>\n",
       "      <td>0.019963</td>\n",
       "      <td>0.296053</td>\n",
       "      <td>0.096813</td>\n",
       "    </tr>\n",
       "    <tr>\n",
       "      <td>Date Posted</td>\n",
       "      <td>0.087836</td>\n",
       "      <td>0.096898</td>\n",
       "      <td>0.057685</td>\n",
       "      <td>1.000000</td>\n",
       "      <td>0.150501</td>\n",
       "      <td>0.017018</td>\n",
       "      <td>0.012393</td>\n",
       "      <td>-0.046251</td>\n",
       "    </tr>\n",
       "    <tr>\n",
       "      <td>Price Reduced</td>\n",
       "      <td>-0.056528</td>\n",
       "      <td>0.001016</td>\n",
       "      <td>-0.008193</td>\n",
       "      <td>0.150501</td>\n",
       "      <td>1.000000</td>\n",
       "      <td>0.017143</td>\n",
       "      <td>-0.018701</td>\n",
       "      <td>-0.042142</td>\n",
       "    </tr>\n",
       "    <tr>\n",
       "      <td>Exclusive Neighborhood</td>\n",
       "      <td>0.416159</td>\n",
       "      <td>0.099973</td>\n",
       "      <td>0.019963</td>\n",
       "      <td>0.017018</td>\n",
       "      <td>0.017143</td>\n",
       "      <td>1.000000</td>\n",
       "      <td>0.007097</td>\n",
       "      <td>0.428078</td>\n",
       "    </tr>\n",
       "    <tr>\n",
       "      <td>Commercial</td>\n",
       "      <td>0.116161</td>\n",
       "      <td>0.032438</td>\n",
       "      <td>0.296053</td>\n",
       "      <td>0.012393</td>\n",
       "      <td>-0.018701</td>\n",
       "      <td>0.007097</td>\n",
       "      <td>1.000000</td>\n",
       "      <td>0.117206</td>\n",
       "    </tr>\n",
       "    <tr>\n",
       "      <td>Murders</td>\n",
       "      <td>0.292352</td>\n",
       "      <td>-0.018486</td>\n",
       "      <td>0.096813</td>\n",
       "      <td>-0.046251</td>\n",
       "      <td>-0.042142</td>\n",
       "      <td>0.428078</td>\n",
       "      <td>0.117206</td>\n",
       "      <td>1.000000</td>\n",
       "    </tr>\n",
       "  </tbody>\n",
       "</table>\n",
       "</div>"
      ],
      "text/plain": [
       "                           Price      Area     Rooms  Date Posted  \\\n",
       "Price                   1.000000  0.352186  0.293303     0.087836   \n",
       "Area                    0.352186  1.000000  0.298380     0.096898   \n",
       "Rooms                   0.293303  0.298380  1.000000     0.057685   \n",
       "Date Posted             0.087836  0.096898  0.057685     1.000000   \n",
       "Price Reduced          -0.056528  0.001016 -0.008193     0.150501   \n",
       "Exclusive Neighborhood  0.416159  0.099973  0.019963     0.017018   \n",
       "Commercial              0.116161  0.032438  0.296053     0.012393   \n",
       "Murders                 0.292352 -0.018486  0.096813    -0.046251   \n",
       "\n",
       "                        Price Reduced  Exclusive Neighborhood  Commercial  \\\n",
       "Price                       -0.056528                0.416159    0.116161   \n",
       "Area                         0.001016                0.099973    0.032438   \n",
       "Rooms                       -0.008193                0.019963    0.296053   \n",
       "Date Posted                  0.150501                0.017018    0.012393   \n",
       "Price Reduced                1.000000                0.017143   -0.018701   \n",
       "Exclusive Neighborhood       0.017143                1.000000    0.007097   \n",
       "Commercial                  -0.018701                0.007097    1.000000   \n",
       "Murders                     -0.042142                0.428078    0.117206   \n",
       "\n",
       "                         Murders  \n",
       "Price                   0.292352  \n",
       "Area                   -0.018486  \n",
       "Rooms                   0.096813  \n",
       "Date Posted            -0.046251  \n",
       "Price Reduced          -0.042142  \n",
       "Exclusive Neighborhood  0.428078  \n",
       "Commercial              0.117206  \n",
       "Murders                 1.000000  "
      ]
     },
     "execution_count": 93,
     "metadata": {},
     "output_type": "execute_result"
    }
   ],
   "source": [
    "df.corr()"
   ]
  },
  {
   "cell_type": "markdown",
   "metadata": {},
   "source": [
    "## Scale Data"
   ]
  },
  {
   "cell_type": "markdown",
   "metadata": {},
   "source": [
    "I scale the independent variables (with mean zero and unit standard deviation) in order to get more interpretable results from regression models. I also code the binary variables into 0 and 1, where 1= True and 0 = False, and create a new dataframe df1 with a log transformation of response variable, and another dataframe dfd2 with a log-log transformation of response and predictors, to see whether log transforms improve model performance in linear regression:"
   ]
  },
  {
   "cell_type": "code",
   "execution_count": 94,
   "metadata": {},
   "outputs": [],
   "source": [
    "df_original = df.copy()\n",
    "\n",
    "def scale_df(df):\n",
    "    df.loc[:, 'Area'] = (df['Area']-np.mean(df['Area']))/np.std(df['Area'])\n",
    "    df.loc[:, 'Rooms'] = (df['Rooms']-np.mean(df['Rooms']))/np.std(df['Rooms'])\n",
    "    df.loc[:, 'Murders'] = (df['Murders']-np.mean(df['Murders']))/np.std(df['Murders'])\n",
    "    df.loc[:,'Date Posted'] = (df['Date Posted']-np.mean(df['Date Posted']))/np.std(df['Date Posted'])\n",
    "    df.loc[:,\"Price Reduced\"]= df[\"Price Reduced\"].map(lambda x: 1 if x==True else 0)\n",
    "    df.loc[:,\"Exclusive Neighborhood\"]= df[\"Exclusive Neighborhood\"].map(lambda x: 1 if x==True else 0)\n",
    "    df.loc[:,\"Commercial\"]= df[\"Commercial\"].map(lambda x: 1 if x==True else 0)\n",
    "\n",
    "#Create a dataframe with a log transformation of response variable and scaled data\n",
    "df1 = df.copy()\n",
    "df1['Price']= np.log(df1['Price'])\n",
    "scale_df(df1)\n",
    "\n",
    "df2=df.copy()\n",
    "df2['Price'] = np.log(df['Price'])\n",
    "df2['Area'] = np.log(df['Area'])\n",
    "df2['Rooms'] = np.log(df['Rooms'])\n",
    "df2['Murders'] = np.log(df['Murders'])\n",
    "df2['Date Posted'] = np.log(df['Date Posted'])\n",
    "scale_df(df2)\n",
    "\n",
    "#We also scale the original dataframe without log transformation\n",
    "scale_df(df)"
   ]
  },
  {
   "cell_type": "markdown",
   "metadata": {},
   "source": [
    "## Modeling Details\n",
    "\n",
    "I will use the Mean Absolute Percentage Error to evaluate my models, as it is a more interpretable error measure. I will also separate my data into 85% training and 15% testing set in order to choose (and eventually test) the best model:"
   ]
  },
  {
   "cell_type": "code",
   "execution_count": 161,
   "metadata": {},
   "outputs": [],
   "source": [
    "from sklearn.metrics import make_scorer\n",
    "def MAPE(y_true, y_pred, **kwargs):\n",
    "    return np.mean(np.abs((y_true - y_pred) / y_true)) * 100\n",
    "\n",
    "my_scorer = make_scorer(MAPE, greater_is_better=False)"
   ]
  },
  {
   "cell_type": "markdown",
   "metadata": {},
   "source": [
    "I create the following scorer to get MAE in terms of original (non log) scale. I use for cross validating some of my models."
   ]
  },
  {
   "cell_type": "code",
   "execution_count": 166,
   "metadata": {},
   "outputs": [],
   "source": [
    "def loss_func(y_true, y_pred):\n",
    "     return np.mean(np.abs((np.exp(y_true) - np.exp(y_pred)) / np.exp(y_true))) * 100\n",
    "\n",
    "score = make_scorer(loss_func, greater_is_better=False)"
   ]
  },
  {
   "cell_type": "code",
   "execution_count": 95,
   "metadata": {},
   "outputs": [],
   "source": [
    "X_train, X_test, y_train, y_test = train_test_split(df.loc[:, df.columns != 'Price'], df['Price'], test_size=0.15, random_state=3)\n",
    "X_train.reset_index(drop = True, inplace = True)\n",
    "X_test.reset_index(drop = True, inplace = True)\n",
    "y_train.reset_index(drop = True, inplace = True)\n",
    "y_test.reset_index(drop = True, inplace = True)\n",
    "\n",
    "X_train1, X_test1, y_train1, y_test1 = train_test_split(df1.loc[:, df1.columns != 'Price'], df1['Price'], test_size=0.15, random_state=3)\n",
    "\n",
    "X_train2, X_test2, y_train2, y_test2 = train_test_split(df2.loc[:, df2.columns != 'Price'], df2['Price'], test_size=0.15, random_state=3)"
   ]
  },
  {
   "cell_type": "markdown",
   "metadata": {},
   "source": [
    "## Baseline Model\n",
    "\n",
    "We simply calculate the median price value for our homes in the training set and use it as prediction in the training set:"
   ]
  },
  {
   "cell_type": "code",
   "execution_count": 97,
   "metadata": {},
   "outputs": [],
   "source": [
    "#define MAE to use in our baseline model\n",
    "def mae(predictions, targets):\n",
    "    return np.abs(predictions - targets).mean()"
   ]
  },
  {
   "cell_type": "code",
   "execution_count": 151,
   "metadata": {},
   "outputs": [
    {
     "name": "stdout",
     "output_type": "stream",
     "text": [
      "Baseline Model MAPE: 87.68\n"
     ]
    }
   ],
   "source": [
    "from sklearn.model_selection import KFold\n",
    "\n",
    "kf = KFold(10)\n",
    "\n",
    "sum_error = 0\n",
    "for train_index, test_index in kf.split(X_train):\n",
    "    x_train, x_test = X_train.loc[train_index], X_train.loc[test_index]\n",
    "    Y_train, Y_test = y_train.loc[train_index], y_train.loc[test_index]\n",
    "    median = int(np.median(Y_train))\n",
    "    y_pred = [median] * len(x_test)\n",
    "    MAE = MAPE(y_pred, Y_test)\n",
    "    sum_error += MAE\n",
    "\n",
    "print('Baseline Model MAPE:', round(sum_error/10,2))"
   ]
  },
  {
   "cell_type": "markdown",
   "metadata": {},
   "source": [
    "## Multivariate Linear Regression"
   ]
  },
  {
   "cell_type": "markdown",
   "metadata": {},
   "source": [
    "The first model I try building is multivariate linear regression. "
   ]
  },
  {
   "cell_type": "code",
   "execution_count": 165,
   "metadata": {},
   "outputs": [
    {
     "name": "stdout",
     "output_type": "stream",
     "text": [
      "Multivariate Regression MAE: 72.89\n"
     ]
    }
   ],
   "source": [
    "from sklearn import linear_model\n",
    "from sklearn.model_selection import cross_val_score\n",
    "\n",
    "lm = linear_model.LinearRegression()\n",
    "scores = cross_val_score(lm, X_train, y_train, scoring=my_scorer, cv=10)\n",
    "print ('Multivariate Regression MAE:', round((-scores).mean(),2))"
   ]
  },
  {
   "cell_type": "markdown",
   "metadata": {},
   "source": [
    "Evidently, we see lack of residual independence below, since errors are not randomly distributed but rather decrease as Y increase. We also see non constant variance. I will try to transform the response to make residuals have constant variance."
   ]
  },
  {
   "cell_type": "code",
   "execution_count": 153,
   "metadata": {},
   "outputs": [
    {
     "data": {
      "image/png": "[encoded data removed]",
      "text/plain": [
       "<Figure size 432x288 with 1 Axes>"
      ]
     },
     "metadata": {
      "needs_background": "light"
     },
     "output_type": "display_data"
    }
   ],
   "source": [
    "model = lm.fit(X_train, y_train)\n",
    "pred = model.predict(X_train)\n",
    "resid = y_train-pred\n",
    "sd = np.std(resid)\n",
    "stand_resid = resid/sd\n",
    "plt.scatter(pred, stand_resid)\n",
    "plt.xlabel('Y')\n",
    "plt.ylabel('Residual')\n",
    "plt.show()"
   ]
  },
  {
   "cell_type": "markdown",
   "metadata": {},
   "source": [
    "As seen below, the standardized residuals are very right skew. This is expected since the response variable is also very right skewed. It doesn't seem to be problematic, though. I'm more concerned with the lack of residual independence. "
   ]
  },
  {
   "cell_type": "code",
   "execution_count": 154,
   "metadata": {},
   "outputs": [
    {
     "data": {
      "image/png": "[encoded data removed]",
      "text/plain": [
       "<Figure size 432x288 with 1 Axes>"
      ]
     },
     "metadata": {
      "needs_background": "light"
     },
     "output_type": "display_data"
    }
   ],
   "source": [
    "import statsmodels.api as sm\n",
    "import pylab\n",
    "\n",
    "test = np.random.normal(0,1, 1000)\n",
    "\n",
    "sm.qqplot(stand_resid, line='45')\n",
    "pylab.show()"
   ]
  },
  {
   "cell_type": "code",
   "execution_count": 155,
   "metadata": {},
   "outputs": [
    {
     "data": {
      "text/plain": [
       "(array([ 10., 137., 723., 101.,  26.,   6.,   8.,   3.,   2.,   1.]),\n",
       " array([-3.07714091, -1.8810715 , -0.68500208,  0.51106733,  1.70713675,\n",
       "         2.90320616,  4.09927558,  5.29534499,  6.49141441,  7.68748382,\n",
       "         8.88355324]),\n",
       " <a list of 10 Patch objects>)"
      ]
     },
     "execution_count": 155,
     "metadata": {},
     "output_type": "execute_result"
    },
    {
     "data": {
      "image/png": "[encoded data removed]",
      "text/plain": [
       "<Figure size 432x288 with 1 Axes>"
      ]
     },
     "metadata": {
      "needs_background": "light"
     },
     "output_type": "display_data"
    }
   ],
   "source": [
    "plt.hist(stand_resid)"
   ]
  },
  {
   "cell_type": "markdown",
   "metadata": {},
   "source": [
    "I'll see if applying a log transformation to the response variable has any effect on the residual distributions. It does! We now get more constant variance. However, there still seems to be 2 clusters of residuals, which suggests lack of independnece. "
   ]
  },
  {
   "cell_type": "code",
   "execution_count": 156,
   "metadata": {},
   "outputs": [
    {
     "data": {
      "image/png": "[encoded data removed]",
      "text/plain": [
       "<Figure size 432x288 with 1 Axes>"
      ]
     },
     "metadata": {
      "needs_background": "light"
     },
     "output_type": "display_data"
    }
   ],
   "source": [
    "model = lm.fit(X_train1, y_train1)\n",
    "pred = model.predict(X_train1)\n",
    "resid = pred-y_train1\n",
    "sd = np.std(resid)\n",
    "stand_resid = resid/sd\n",
    "plt.scatter(pred, stand_resid)\n",
    "plt.xlabel('Y')\n",
    "plt.ylabel('Residual')\n",
    "plt.show()"
   ]
  },
  {
   "cell_type": "code",
   "execution_count": 157,
   "metadata": {},
   "outputs": [
    {
     "data": {
      "image/png": "[encoded data removed]",
      "text/plain": [
       "<Figure size 432x288 with 1 Axes>"
      ]
     },
     "metadata": {
      "needs_background": "light"
     },
     "output_type": "display_data"
    },
    {
     "data": {
      "text/plain": [
       "(array([  4.,  10.,  64., 191., 341., 253., 103.,  37.,  12.,   2.]),\n",
       " array([-3.68853122, -2.91590208, -2.14327295, -1.37064381, -0.59801467,\n",
       "         0.17461446,  0.9472436 ,  1.71987274,  2.49250187,  3.26513101,\n",
       "         4.03776015]),\n",
       " <a list of 10 Patch objects>)"
      ]
     },
     "execution_count": 157,
     "metadata": {},
     "output_type": "execute_result"
    },
    {
     "data": {
      "image/png": "[encoded data removed]",
      "text/plain": [
       "<Figure size 432x288 with 1 Axes>"
      ]
     },
     "metadata": {
      "needs_background": "light"
     },
     "output_type": "display_data"
    }
   ],
   "source": [
    "test = np.random.normal(0,1, 1000)\n",
    "\n",
    "sm.qqplot(stand_resid, line='45')\n",
    "pylab.show()\n",
    "\n",
    "plt.hist(stand_resid)"
   ]
  },
  {
   "cell_type": "markdown",
   "metadata": {},
   "source": [
    "Indeed, normality does improve but we still have the problem with lack of error independence. Below I try multivariate linear regression with log response:"
   ]
  },
  {
   "cell_type": "code",
   "execution_count": 167,
   "metadata": {},
   "outputs": [
    {
     "name": "stdout",
     "output_type": "stream",
     "text": [
      "Multivariate Regression with Log(Response) MAPE: 62.71\n"
     ]
    }
   ],
   "source": [
    "lm = linear_model.LinearRegression()\n",
    "scores = cross_val_score(lm, X_train1, y_train1, scoring=score, cv=10)\n",
    "print ('Multivariate Regression with Log(Response) MAPE:', round((-scores).mean(),2))"
   ]
  },
  {
   "cell_type": "markdown",
   "metadata": {},
   "source": [
    "I will check if there are non linear relationships between response and predictors, to see if transforming predictors improves the model:"
   ]
  },
  {
   "cell_type": "code",
   "execution_count": 106,
   "metadata": {},
   "outputs": [
    {
     "data": {
      "image/png": "[encoded data removed]",
      "text/plain": [
       "<Figure size 432x288 with 64 Axes>"
      ]
     },
     "metadata": {
      "needs_background": "light"
     },
     "output_type": "display_data"
    }
   ],
   "source": [
    "from pandas.plotting import scatter_matrix\n",
    "scatter_matrix(df1)\n",
    "plt.show()"
   ]
  },
  {
   "cell_type": "markdown",
   "metadata": {},
   "source": [
    "The relationship between Price and Area is roughly linear, but could be improved so I will log transform Area. I also apply log transformation to Date Posted to improve linearity with Price. "
   ]
  },
  {
   "cell_type": "code",
   "execution_count": 114,
   "metadata": {},
   "outputs": [],
   "source": [
    "dfx = df_original.copy()\n",
    "dfx['Price']= np.log(dfx['Price'])\n",
    "dfx['Area']= np.log(df_original['Area'])\n",
    "dfx['Date Posted']= np.log(df_original['Date Posted'])\n",
    "scale_df(dfx)"
   ]
  },
  {
   "cell_type": "code",
   "execution_count": 115,
   "metadata": {},
   "outputs": [],
   "source": [
    "X_trainx, X_testx, y_trainx, y_testx = train_test_split(dfx.loc[:, dfx.columns != 'Price'], dfx['Price'], test_size=0.15, random_state=3)"
   ]
  },
  {
   "cell_type": "markdown",
   "metadata": {},
   "source": [
    "Indeed, we get the lowest MAE within multivariate linear regression with these transformations:"
   ]
  },
  {
   "cell_type": "code",
   "execution_count": 168,
   "metadata": {},
   "outputs": [
    {
     "name": "stdout",
     "output_type": "stream",
     "text": [
      "Multivariate Log-Log Regression MAPE: 51.55\n"
     ]
    }
   ],
   "source": [
    "lm = linear_model.LinearRegression()\n",
    "scores = cross_val_score(lm, X_trainx, y_trainx, scoring=score, cv=10)\n",
    "print ('Multivariate Log-Log Regression MAPE:', round((-scores).mean(),2))"
   ]
  },
  {
   "cell_type": "markdown",
   "metadata": {},
   "source": [
    "# PCA Regression"
   ]
  },
  {
   "cell_type": "markdown",
   "metadata": {},
   "source": [
    "I'll now do PCA regression as a means to eliminate multicollinearity within our predictors. I'll use the data set that yielded the best MAE above. Below, we see that at 4 components we have most of the variance explained, so I will try linear regression with components #4-7 given that we are using PCA merely as a means to reduce multicollinearity. "
   ]
  },
  {
   "cell_type": "code",
   "execution_count": 126,
   "metadata": {},
   "outputs": [
    {
     "data": {
      "text/plain": [
       "Text(0.5, 0, '# Components')"
      ]
     },
     "execution_count": 126,
     "metadata": {},
     "output_type": "execute_result"
    },
    {
     "data": {
      "image/png": "[encoded data removed]",
      "text/plain": [
       "<Figure size 432x288 with 1 Axes>"
      ]
     },
     "metadata": {
      "needs_background": "light"
     },
     "output_type": "display_data"
    }
   ],
   "source": [
    "from sklearn.decomposition import PCA\n",
    "\n",
    "variance = []\n",
    "for i in range(8):\n",
    "    pca = PCA(n_components=i)\n",
    "    principalComponents= pca.fit_transform(X_trainx)\n",
    "    var= sum(pca.explained_variance_ratio_)\n",
    "    variance.append(var)\n",
    "\n",
    "x = range(8)\n",
    "plt.plot(x, variance)\n",
    "plt.ylabel('% Variance Explained')\n",
    "plt.xlabel('# Components')"
   ]
  },
  {
   "cell_type": "markdown",
   "metadata": {},
   "source": [
    "Below, we see that PCA regression with 5 components yields the best MAPE of %51.48, a slight improvement over our multivariate regression without PCA found above."
   ]
  },
  {
   "cell_type": "code",
   "execution_count": 169,
   "metadata": {},
   "outputs": [
    {
     "name": "stdout",
     "output_type": "stream",
     "text": [
      "PCA Multivariate Regression MAE: 57.04\n",
      "PCA Multivariate Regression MAE: 51.48\n",
      "PCA Multivariate Regression MAE: 51.61\n",
      "PCA Multivariate Regression MAE: 51.55\n"
     ]
    }
   ],
   "source": [
    "for i in range (4,8):\n",
    "    pca= PCA(n_components=i)\n",
    "    principalComponents= pca.fit_transform(X_trainx)\n",
    "    lm = linear_model.LinearRegression()\n",
    "    scores = cross_val_score(lm, principalComponents, y_trainx, scoring=score, cv=10)\n",
    "    print ('PCA Multivariate Regression MAE:', round((-scores).mean(),2))"
   ]
  },
  {
   "cell_type": "markdown",
   "metadata": {},
   "source": [
    "## Multivariate Regression Using Elastic Net"
   ]
  },
  {
   "cell_type": "markdown",
   "metadata": {},
   "source": [
    "I try multivariate regression using Elastic Net (since it provides the benefits of both Ridge and Lasso regression). I used cross validation to find the optimum l1_ratio value, which determines the weights of the ridge vs lasso component. All models improved their accuracy but only slightly. "
   ]
  },
  {
   "cell_type": "code",
   "execution_count": 170,
   "metadata": {},
   "outputs": [
    {
     "name": "stdout",
     "output_type": "stream",
     "text": [
      "Multivariate Regression with Elastic Net MAE: 72.77\n"
     ]
    }
   ],
   "source": [
    "from sklearn.linear_model import ElasticNetCV\n",
    "l1_ratio = [.1, .5, .7, .9, .95, .99, 1]\n",
    "regr = ElasticNetCV(cv=10, l1_ratio = l1_ratio, random_state=0)\n",
    "scores = cross_val_score(regr, X_train, y_train, scoring=my_scorer, cv=10)\n",
    "print ('Multivariate Regression with Elastic Net MAPE:', round((-scores).mean(),2))"
   ]
  },
  {
   "cell_type": "code",
   "execution_count": 171,
   "metadata": {},
   "outputs": [
    {
     "name": "stdout",
     "output_type": "stream",
     "text": [
      "Multivariate Regression with Log(Response) and Elastic Net MAE: 62.72\n"
     ]
    }
   ],
   "source": [
    "regr = ElasticNetCV(cv=10, l1_ratio = l1_ratio, random_state=0)\n",
    "scores = cross_val_score(regr, X_train1, y_train1, scoring=score, cv=10)\n",
    "print ('Multivariate Regression with Log(Response) and Elastic Net MAPE:', round((-scores).mean(),2))"
   ]
  },
  {
   "cell_type": "code",
   "execution_count": 172,
   "metadata": {},
   "outputs": [
    {
     "name": "stdout",
     "output_type": "stream",
     "text": [
      "Log-Log Multivariate Regression with Elastic Net MAPE: 51.78\n"
     ]
    }
   ],
   "source": [
    "regr = ElasticNetCV(cv=10, l1_ratio = l1_ratio, random_state=0)\n",
    "scores = cross_val_score(regr, X_train2, y_train2, scoring=score, cv=10)\n",
    "print ('Log-Log Multivariate Regression with Elastic Net MAPE:', round((-scores).mean(),2))"
   ]
  },
  {
   "cell_type": "markdown",
   "metadata": {},
   "source": [
    "The best multivariate elastic net regression model occures with only taking the loq transform of Area and Date Posted:"
   ]
  },
  {
   "cell_type": "code",
   "execution_count": 173,
   "metadata": {},
   "outputs": [
    {
     "name": "stdout",
     "output_type": "stream",
     "text": [
      "Log-Log Multivariate Regression with Elastic Net MAPE: 51.68\n"
     ]
    }
   ],
   "source": [
    "regr = ElasticNetCV(cv=10, l1_ratio = l1_ratio, random_state=0)\n",
    "scores = cross_val_score(regr, X_trainx, y_trainx, scoring=score, cv=10)\n",
    "print ('Log-Log Multivariate Regression with Elastic Net MAPE:', round((-scores).mean(),2))"
   ]
  },
  {
   "cell_type": "markdown",
   "metadata": {},
   "source": [
    "## Random Forest Regression"
   ]
  },
  {
   "cell_type": "markdown",
   "metadata": {},
   "source": [
    "Now I try random forest regression, using randomized search to optimize hyperparameters n_estimators (number of tree in forest), max_features (number of features at every split), and max_depth (maximum tree depth). Note that it is not necessary to use the log or log-log data set, since these transformations only help in linear models:"
   ]
  },
  {
   "cell_type": "code",
   "execution_count": 174,
   "metadata": {},
   "outputs": [
    {
     "name": "stdout",
     "output_type": "stream",
     "text": [
      "Fitting 5 folds for each of 60 candidates, totalling 300 fits\n"
     ]
    },
    {
     "name": "stderr",
     "output_type": "stream",
     "text": [
      "[Parallel(n_jobs=-1)]: Using backend LokyBackend with 4 concurrent workers.\n",
      "[Parallel(n_jobs=-1)]: Done  33 tasks      | elapsed:   25.5s\n",
      "[Parallel(n_jobs=-1)]: Done 154 tasks      | elapsed:  1.9min\n",
      "[Parallel(n_jobs=-1)]: Done 300 out of 300 | elapsed:  3.5min finished\n"
     ]
    },
    {
     "name": "stdout",
     "output_type": "stream",
     "text": [
      "Optimum Random Forest Hyperparameters: {'n_estimators': 775, 'max_features': 'sqrt', 'max_depth': 325}\n"
     ]
    }
   ],
   "source": [
    "from sklearn.model_selection import RandomizedSearchCV\n",
    "from sklearn.ensemble import RandomForestRegressor\n",
    "import warnings\n",
    "import random\n",
    "\n",
    "random.seed(1)\n",
    "warnings.simplefilter(action='ignore')\n",
    "\n",
    "rfc = RandomForestRegressor()\n",
    "\n",
    "# number of trees in random forest, we try 10 values for n_estimators\n",
    "n_estimators = [int(x) for x in np.linspace(start = 100, stop = 1000, num = 5)]\n",
    "\n",
    "# number of features at every split, try 2 different estimates\n",
    "max_features = ['auto', 'sqrt']\n",
    "\n",
    "# max depth, try 10 values for max_depth\n",
    "max_depth = [int(x) for x in np.linspace(100, 1000, num = 5)]\n",
    "max_depth.append(None)\n",
    "\n",
    "# create random grid\n",
    "random_grid = {\n",
    " 'n_estimators': n_estimators,\n",
    " 'max_features': max_features,\n",
    " 'max_depth': max_depth\n",
    " }\n",
    "\n",
    "# Random search of parameters\n",
    "rfc_random = RandomizedSearchCV(estimator = rfc, param_distributions = random_grid, n_iter = 100, cv = 5, scoring = my_scorer, verbose=2, random_state=42, n_jobs = -1)\n",
    "\n",
    "# Fit the model\n",
    "rfc_random.fit(X_train, y_train)\n",
    "\n",
    "# print results\n",
    "print('Optimum Random Forest Hyperparameters:', rfc_random.best_params_)"
   ]
  },
  {
   "cell_type": "markdown",
   "metadata": {},
   "source": [
    "After hyperparameter tuning using RandomizedSearchCV, I run the random forest model using the parameters given by the randomized search:"
   ]
  },
  {
   "cell_type": "code",
   "execution_count": 177,
   "metadata": {},
   "outputs": [
    {
     "name": "stdout",
     "output_type": "stream",
     "text": [
      "Random Forest MAPE: 54.79\n"
     ]
    }
   ],
   "source": [
    "# Create model with hyperparameters found above\n",
    "rf = RandomForestRegressor(n_estimators = 775, max_features = 'sqrt', max_depth= 325, random_state = 42)\n",
    "\n",
    "scores = cross_val_score(rf, X_train, y_train, scoring=my_scorer, cv = 10)\n",
    "\n",
    "print ('Random Forest MAPE:', round((-scores).mean(),2))"
   ]
  },
  {
   "cell_type": "markdown",
   "metadata": {},
   "source": [
    "Now I do hyperparameter tuning for the dataframe with log transformation of response variable:"
   ]
  },
  {
   "cell_type": "code",
   "execution_count": 178,
   "metadata": {},
   "outputs": [
    {
     "name": "stdout",
     "output_type": "stream",
     "text": [
      "Fitting 5 folds for each of 60 candidates, totalling 300 fits\n"
     ]
    },
    {
     "name": "stderr",
     "output_type": "stream",
     "text": [
      "[Parallel(n_jobs=-1)]: Using backend LokyBackend with 4 concurrent workers.\n",
      "[Parallel(n_jobs=-1)]: Done  33 tasks      | elapsed:   23.9s\n",
      "[Parallel(n_jobs=-1)]: Done 154 tasks      | elapsed:  2.0min\n",
      "[Parallel(n_jobs=-1)]: Done 300 out of 300 | elapsed:  3.8min finished\n"
     ]
    },
    {
     "name": "stdout",
     "output_type": "stream",
     "text": [
      "Optimum Random Forest With Log Response Hyperparameters: {'n_estimators': 100, 'max_features': 'sqrt', 'max_depth': 1000}\n"
     ]
    }
   ],
   "source": [
    "random.seed(1)\n",
    "rfc = RandomForestRegressor()\n",
    "\n",
    "# Random search of parameters using same hyperarameters as above\n",
    "rfc_random = RandomizedSearchCV(estimator = rfc, param_distributions = random_grid, n_iter = 100, cv = 5, scoring = score, verbose=2, random_state=42, n_jobs = -1)\n",
    "\n",
    "# Fit the model\n",
    "rfc_random.fit(X_train1, y_train1)\n",
    "\n",
    "# print results\n",
    "print('Optimum Random Forest With Log Response Hyperparameters:', rfc_random.best_params_)"
   ]
  },
  {
   "cell_type": "code",
   "execution_count": 179,
   "metadata": {},
   "outputs": [
    {
     "name": "stdout",
     "output_type": "stream",
     "text": [
      "Random Forest With Log Response MAPE: 44.3\n"
     ]
    }
   ],
   "source": [
    "rf = RandomForestRegressor(n_estimators = 100, max_features = 'sqrt', max_depth= 1000, random_state = 42)\n",
    "\n",
    "scores = cross_val_score(rf, X_train1, y_train1, scoring=score, cv = 10)\n",
    "\n",
    "print ('Random Forest With Log Response MAPE:',round((-scores).mean(),2))"
   ]
  },
  {
   "cell_type": "markdown",
   "metadata": {},
   "source": [
    "There is noticeable improvement with random forest compared to linear regression."
   ]
  },
  {
   "cell_type": "markdown",
   "metadata": {},
   "source": [
    "## XG Boost Regression"
   ]
  },
  {
   "cell_type": "markdown",
   "metadata": {},
   "source": [
    "Note that I did not show hyperparameter optmization because, after trying out different hyperparameters, I found that the XGBRegressor's preset parameters were already the opimum:"
   ]
  },
  {
   "cell_type": "code",
   "execution_count": 180,
   "metadata": {},
   "outputs": [
    {
     "name": "stdout",
     "output_type": "stream",
     "text": [
      "XGBoost MAE: 53.73\n"
     ]
    }
   ],
   "source": [
    "from xgboost import XGBRegressor\n",
    "XGBoost = XGBRegressor(objective ='reg:squarederror')\n",
    "\n",
    "scores = cross_val_score(XGBoost, X_train, y_train, scoring=my_scorer, cv=10)\n",
    "\n",
    "print ('XGBoost MAE:', round((-scores).mean(),2))"
   ]
  },
  {
   "cell_type": "code",
   "execution_count": 181,
   "metadata": {},
   "outputs": [
    {
     "name": "stdout",
     "output_type": "stream",
     "text": [
      "XGBoost MAE with log Response: 42.08\n"
     ]
    }
   ],
   "source": [
    "XGBoost = XGBRegressor(objective ='reg:squarederror')\n",
    "\n",
    "scores = cross_val_score(XGBoost, X_train1, y_train1, scoring=score, cv=10)\n",
    "\n",
    "print ('XGBoost MAE with log Response:', round((-scores).mean(),2))"
   ]
  },
  {
   "cell_type": "code",
   "execution_count": 182,
   "metadata": {},
   "outputs": [
    {
     "name": "stdout",
     "output_type": "stream",
     "text": [
      "Log-Log XGBoost MAE: 42.16\n"
     ]
    }
   ],
   "source": [
    "XGBoost = XGBRegressor(objective ='reg:squarederror')\n",
    "\n",
    "scores = cross_val_score(XGBoost, X_train2, y_train2, scoring=score, cv=10)\n",
    "\n",
    "print ('Log-Log XGBoost MAE:', round((-scores).mean(),2))"
   ]
  },
  {
   "cell_type": "code",
   "execution_count": 183,
   "metadata": {},
   "outputs": [
    {
     "name": "stdout",
     "output_type": "stream",
     "text": [
      "Log-Log XGBoost MAE: 42.17\n"
     ]
    }
   ],
   "source": [
    "XGBoost = XGBRegressor(objective ='reg:squarederror')\n",
    "\n",
    "scores = cross_val_score(XGBoost, X_trainx, y_trainx, scoring=score, cv=10)\n",
    "\n",
    "print ('Log-Log XGBoost MAE:', round((-scores).mean(),2))"
   ]
  },
  {
   "cell_type": "markdown",
   "metadata": {},
   "source": [
    "## KNN Regression"
   ]
  },
  {
   "cell_type": "code",
   "execution_count": 184,
   "metadata": {},
   "outputs": [
    {
     "name": "stdout",
     "output_type": "stream",
     "text": [
      "{'n_neighbors': 4}\n",
      "KNN MAE: 65.19\n"
     ]
    }
   ],
   "source": [
    "from sklearn import neighbors\n",
    "from sklearn.model_selection import GridSearchCV\n",
    "\n",
    "knn = neighbors.KNeighborsRegressor()\n",
    "#create a dictionary of all values we want to test for n_neighbors\n",
    "param_grid = {'n_neighbors': np.arange(1, 50)}\n",
    "#use gridsearch to test all values for n_neighbors\n",
    "knn_gscv = GridSearchCV(knn, param_grid, scoring = my_scorer, cv=10)\n",
    "#fit model to data\n",
    "knn_gscv.fit(df.loc[:, df.columns != 'Price'], df['Price'])\n",
    "#check top performing n_neighbors value\n",
    "print(knn_gscv.best_params_)\n",
    "#check mean score for the top performing value of n_neighbors\n",
    "print ('KNN MAE:', round(-knn_gscv.best_score_,2)) "
   ]
  },
  {
   "cell_type": "code",
   "execution_count": 185,
   "metadata": {},
   "outputs": [
    {
     "name": "stdout",
     "output_type": "stream",
     "text": [
      "{'n_neighbors': 18}\n",
      "KNN MAE with Log (Response): 52.94\n"
     ]
    }
   ],
   "source": [
    "knn = neighbors.KNeighborsRegressor()\n",
    "#create a dictionary of all values we want to test for n_neighbors\n",
    "param_grid = {'n_neighbors': np.arange(1, 50)}\n",
    "#use gridsearch to test all values for n_neighbors\n",
    "knn_gscv = GridSearchCV(knn, param_grid, scoring = score, cv=10)\n",
    "#fit model to data\n",
    "knn_gscv.fit(df1.loc[:, df1.columns != 'Price'], df1['Price'])\n",
    "#check top performing n_neighbors value\n",
    "print(knn_gscv.best_params_)\n",
    "#check mean score for the top performing value of n_neighbors\n",
    "print ('KNN MAE with Log (Response):', round(-knn_gscv.best_score_,2))"
   ]
  },
  {
   "cell_type": "code",
   "execution_count": 186,
   "metadata": {},
   "outputs": [
    {
     "name": "stdout",
     "output_type": "stream",
     "text": [
      "{'n_neighbors': 12}\n",
      "Log-Log KNN MAE: 46.83\n"
     ]
    }
   ],
   "source": [
    "knn = neighbors.KNeighborsRegressor()\n",
    "#create a dictionary of all values we want to test for n_neighbors\n",
    "param_grid = {'n_neighbors': np.arange(1, 50)}\n",
    "#use gridsearch to test all values for n_neighbors\n",
    "knn_gscv = GridSearchCV(knn, param_grid, scoring = score, cv=10)\n",
    "#fit model to data\n",
    "knn_gscv.fit(df2.loc[:, df2.columns != 'Price'], df2['Price'])\n",
    "#check top performing n_neighbors value\n",
    "print(knn_gscv.best_params_)\n",
    "#check mean score for the top performing value of n_neighbors\n",
    "print ('Log-Log KNN MAE:', round(-knn_gscv.best_score_,2))"
   ]
  },
  {
   "cell_type": "code",
   "execution_count": 187,
   "metadata": {},
   "outputs": [
    {
     "name": "stdout",
     "output_type": "stream",
     "text": [
      "{'n_neighbors': 12}\n",
      "Log-Log KNN MAE: 48.39\n"
     ]
    }
   ],
   "source": [
    "knn = neighbors.KNeighborsRegressor()\n",
    "#create a dictionary of all values we want to test for n_neighbors\n",
    "param_grid = {'n_neighbors': np.arange(1, 50)}\n",
    "#use gridsearch to test all values for n_neighbors\n",
    "knn_gscv = GridSearchCV(knn, param_grid, scoring = score, cv=10)\n",
    "#fit model to data\n",
    "knn_gscv.fit(dfx.loc[:, dfx.columns != 'Price'], dfx['Price'])\n",
    "#check top performing n_neighbors value\n",
    "print(knn_gscv.best_params_)\n",
    "#check mean score for the top performing value of n_neighbors\n",
    "print ('Log-Log KNN MAE:', round(-knn_gscv.best_score_,2))"
   ]
  },
  {
   "cell_type": "markdown",
   "metadata": {},
   "source": [
    "## Testing Chosen Model"
   ]
  },
  {
   "cell_type": "markdown",
   "metadata": {},
   "source": [
    "The best performing model in the cross validation step is XGBoost with log response, so I choose it as a final model. The MAPE for this model on the testing set is US56,976, which means that this model's predictions are US56,976 off, on average, of the true listing price. "
   ]
  },
  {
   "cell_type": "code",
   "execution_count": 190,
   "metadata": {},
   "outputs": [
    {
     "name": "stdout",
     "output_type": "stream",
     "text": [
      "Log Response XGBoost MAE on testing set: 47.93020999961343\n"
     ]
    }
   ],
   "source": [
    "XGBoost = XGBRegressor(objective ='reg:squarederror')\n",
    "XGBoost.fit(X_train1, y_train1)\n",
    "y_pred = XGBoost.predict(X_test1)\n",
    "error = np.mean(np.abs((np.exp(y_test1) - np.exp(y_pred)) / np.exp(y_test1))) * 100\n",
    "print('Log Response XGBoost MAE on testing set:', error)"
   ]
  },
  {
   "cell_type": "markdown",
   "metadata": {},
   "source": [
    "The most important predictor, according to XGBoost model, is Exclusive Neighborhood, meaning that a property's location in or out of an exclusive neighborhood is the most important predictor of the property's listing price. Area follows far behind, and then Rooms and Murders. Price Reduced, Date Posted, and Commercial seem to have almost negligible prediction effect on listing price. "
   ]
  },
  {
   "cell_type": "code",
   "execution_count": 191,
   "metadata": {},
   "outputs": [
    {
     "name": "stdout",
     "output_type": "stream",
     "text": [
      "Variable: Exclusive Neighborhood Importance: 0.6399999856948853\n",
      "Variable: Area                 Importance: 0.1599999964237213\n",
      "Variable: Rooms                Importance: 0.07999999821186066\n",
      "Variable: Murders              Importance: 0.07000000029802322\n",
      "Variable: Price Reduced        Importance: 0.029999999329447746\n",
      "Variable: Date Posted          Importance: 0.009999999776482582\n",
      "Variable: Commercial           Importance: 0.009999999776482582\n"
     ]
    },
    {
     "data": {
      "text/plain": [
       "[None, None, None, None, None, None, None]"
      ]
     },
     "execution_count": 191,
     "metadata": {},
     "output_type": "execute_result"
    }
   ],
   "source": [
    "# Get numerical feature importances of our forest\n",
    "feature_list = list(X_train1.columns)\n",
    "importances = list(XGBoost.feature_importances_)\n",
    "# List of tuples with variable and importance\n",
    "feature_importances = [(feature, round(importance, 2)) for feature, importance in zip(feature_list, importances)]\n",
    "# Sort the feature importances by most important first\n",
    "feature_importances = sorted(feature_importances, key = lambda x: x[1], reverse = True)\n",
    "# Print out the feature and importances \n",
    "[print('Variable: {:20} Importance: {}'.format(*pair)) for pair in feature_importances]"
   ]
  },
  {
   "cell_type": "markdown",
   "metadata": {},
   "source": [
    "## Results and Conclusion"
   ]
  },
  {
   "cell_type": "markdown",
   "metadata": {},
   "source": [
    "I succesfully built a model- XGBoost using log(response)- that was almost twice more accurate than the baseline model at predicting a property's listing price. Yet, at 47% mean average percentage error, the XGBoost model still has a significant error measure. This may be explained by the fact that the data I used is only on the listed property price, which is different and has more variance compared to the actual property selling price. Listed prices are almost uniformly higher than selling price, but the degree of difference between listed price and true property value (or selling price) may cause a substantial bias in our model (e.g. some people think their property is valued way higher than the market thinks, while others list their homes closer to the actual selling price). My model is not able to account for such listing bias. I surmise that if I could get my hands on a data set of actual selling price, I could create a more robust model. \n",
    "\n",
    "The chosen model shows that whether a property is located in an exclusive neighborhood or not is the most important determinant of property price, followed by Area and Murders. Given that almost half of our data set is comprised of properties located in exclusive areas, it is not surprising for the chosen model to assign greater importance to this factor. It also makes sense that, in such a socially divided and crime-ridden nation, a property's exclusivity (and therefore its safety) is the most important determinant of price. Also note that while one would expect a property's degree of neighborhood exclusivity is correlated with crime rates (Murder in our data), our Murder variable only encompasses crime rates among cities, while the 'Exclusive Neighborhood' variable encompasses smaller neighborhods. Thus, these two variables are not particularly correlated which in turn aids our variable interpretation results. \n",
    "\n",
    "Surprisingly, whether a property is located in a commerical property was the least important predictor in my model. This came as a surprise, given that my coworkers and I think that the commercial use of a property is one of the most important drivers of price. The low importance of the commerical variable may be explained by the fact that the data I used was scraped from the \"homes\" listings of Encuentra24, rather than \"commercial\" listings. Also note that in El Salvador, commercial properties are scattered and priced similarly in both exclusive and non exclusive areas (price is mainly determine by foot traffick), so that it is also not as highly correlated with the exclusive factor. This also allows for more accurate variable interpretation.  \n",
    "\n",
    "The biggest challenge of this analytics project was finding accurate data. Since my data came from online listings, where anyone can input data about their listing, it is hard to get a 100% clean and accurate data set from this website. A suggestion for the local government would be to gather information about property sales and make this data available to the public, as this would greatly improve analytics models on the subject at hand. "
   ]
  }
 ],
 "metadata": {
  "kernelspec": {
   "display_name": "Python 3",
   "language": "python",
   "name": "python3"
  },
  "language_info": {
   "codemirror_mode": {
    "name": "ipython",
    "version": 3
   },
   "file_extension": ".py",
   "mimetype": "text/x-python",
   "name": "python",
   "nbconvert_exporter": "python",
   "pygments_lexer": "ipython3",
   "version": "3.7.4"
  }
 },
 "nbformat": 4,
 "nbformat_minor": 2
}
